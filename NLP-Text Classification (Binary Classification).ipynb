{
 "cells": [
  {
   "cell_type": "markdown",
   "metadata": {},
   "source": [
    "### Analysis of tweets to check whether it is related to the true disaster event or it is referrring to movie reviews,jokes or something irrelevant"
   ]
  },
  {
   "cell_type": "markdown",
   "metadata": {},
   "source": [
    "#### Import the required libraries"
   ]
  },
  {
   "cell_type": "code",
   "execution_count": 51,
   "metadata": {},
   "outputs": [],
   "source": [
    "import pandas as pd\n",
    "import nltk\n",
    "import re\n",
    "import string \n",
    "import nltk\n",
    "from nltk.corpus import wordnet\n",
    "from nltk import pos_tag\n",
    "from nltk.tokenize import word_tokenize\n",
    "from collections import Counter\n",
    "from sklearn.feature_extraction.text import CountVectorizer,TfidfTransformer,TfidfVectorizer\n",
    "import operator\n",
    "from sklearn.model_selection import train_test_split\n",
    "from sklearn.linear_model import LogisticRegression\n",
    "from sklearn import metrics"
   ]
  },
  {
   "cell_type": "markdown",
   "metadata": {},
   "source": [
    "#### Load the dataset"
   ]
  },
  {
   "cell_type": "code",
   "execution_count": 2,
   "metadata": {},
   "outputs": [],
   "source": [
    "dataset = pd.read_csv(r'socialmedia-disaster-tweets-DFE.csv',encoding='ISO-8859-1')"
   ]
  },
  {
   "cell_type": "markdown",
   "metadata": {},
   "source": [
    "#### Analysis of data provided"
   ]
  },
  {
   "cell_type": "code",
   "execution_count": 3,
   "metadata": {},
   "outputs": [
    {
     "name": "stdout",
     "output_type": "stream",
     "text": [
      "(10860, 13)\n",
      "Index(['_unit_id', '_golden', '_unit_state', '_trusted_judgments',\n",
      "       '_last_judgment_at', 'choose_one', 'choose_one:confidence',\n",
      "       'choose_one_gold', 'keyword', 'location', 'text', 'tweetid', 'userid'],\n",
      "      dtype='object')\n",
      "[dtype('int64') dtype('bool') dtype('O') dtype('float64')]\n"
     ]
    }
   ],
   "source": [
    "dataset=dataset[dataset['choose_one']!=\"Can't Decide\"]\n",
    "print(dataset.shape)\n",
    "print(dataset.columns)\n",
    "print(dataset.dtypes.unique())"
   ]
  },
  {
   "cell_type": "markdown",
   "metadata": {},
   "source": [
    "#### Dataset contains 13 features and 10876 samples and contains four different datatype columns"
   ]
  },
  {
   "cell_type": "code",
   "execution_count": 4,
   "metadata": {},
   "outputs": [
    {
     "name": "stdout",
     "output_type": "stream",
     "text": [
      "8\n",
      "5\n"
     ]
    }
   ],
   "source": [
    "categorical_columns = dataset.select_dtypes(include=['object','bool']).columns\n",
    "numerical_columns = dataset.select_dtypes(include=['float64','int64']).columns\n",
    "df_categorical = dataset[categorical_columns]\n",
    "df_numerical = dataset[numerical_columns]\n",
    "print(len(categorical_columns))\n",
    "print(len(numerical_columns))"
   ]
  },
  {
   "cell_type": "markdown",
   "metadata": {},
   "source": [
    "#### There are 8 categorical columns and 5 numerical columns in the dataset"
   ]
  },
  {
   "cell_type": "code",
   "execution_count": 5,
   "metadata": {},
   "outputs": [
    {
     "name": "stdout",
     "output_type": "stream",
     "text": [
      "_golden                  0\n",
      "_unit_state              0\n",
      "_last_judgment_at       84\n",
      "choose_one               0\n",
      "choose_one_gold      10773\n",
      "keyword                 87\n",
      "location              3632\n",
      "text                     0\n",
      "dtype: int64\n",
      "_unit_id                  0\n",
      "_trusted_judgments        0\n",
      "choose_one:confidence     0\n",
      "tweetid                   0\n",
      "userid                   87\n",
      "dtype: int64\n"
     ]
    }
   ],
   "source": [
    "print(dataset[categorical_columns].isnull().sum())\n",
    "print(dataset[numerical_columns].isnull().sum())"
   ]
  },
  {
   "cell_type": "markdown",
   "metadata": {},
   "source": [
    "#### Of 10876 samples, choose one gold column contains 99.2% null values and location contains 33.5%  null values. \n",
    "#### Keyword, userid, last_judgment_at contains <1% null values"
   ]
  },
  {
   "cell_type": "markdown",
   "metadata": {},
   "source": [
    "#### Drop the column which has more than 30% of null values and replace the null values in other categorical columns with ffill\n"
   ]
  },
  {
   "cell_type": "code",
   "execution_count": 6,
   "metadata": {},
   "outputs": [
    {
     "name": "stderr",
     "output_type": "stream",
     "text": [
      "C:\\ProgramData\\Anaconda3\\lib\\site-packages\\pandas\\core\\generic.py:5434: SettingWithCopyWarning: \n",
      "A value is trying to be set on a copy of a slice from a DataFrame\n",
      "\n",
      "See the caveats in the documentation: http://pandas.pydata.org/pandas-docs/stable/indexing.html#indexing-view-versus-copy\n",
      "  self._update_inplace(new_data)\n",
      "C:\\ProgramData\\Anaconda3\\lib\\site-packages\\pandas\\core\\frame.py:3697: SettingWithCopyWarning: \n",
      "A value is trying to be set on a copy of a slice from a DataFrame\n",
      "\n",
      "See the caveats in the documentation: http://pandas.pydata.org/pandas-docs/stable/indexing.html#indexing-view-versus-copy\n",
      "  errors=errors)\n"
     ]
    }
   ],
   "source": [
    "null_count_categorical = dict(dataset[categorical_columns].isnull().sum())\n",
    "for key,val in null_count_categorical.items():\n",
    "    if val>0.3*len(dataset):\n",
    "        df_categorical.drop(key,axis=1,inplace=True)\n",
    "    elif val>1:\n",
    "        df_categorical[key].fillna(method='ffill',inplace=True)\n",
    "        df_categorical[key].fillna(method='bfill',inplace=True)"
   ]
  },
  {
   "cell_type": "markdown",
   "metadata": {},
   "source": [
    "#### Repeat the same steps as above for numerical columns"
   ]
  },
  {
   "cell_type": "code",
   "execution_count": 7,
   "metadata": {},
   "outputs": [
    {
     "name": "stderr",
     "output_type": "stream",
     "text": [
      "C:\\ProgramData\\Anaconda3\\lib\\site-packages\\pandas\\core\\generic.py:5434: SettingWithCopyWarning: \n",
      "A value is trying to be set on a copy of a slice from a DataFrame\n",
      "\n",
      "See the caveats in the documentation: http://pandas.pydata.org/pandas-docs/stable/indexing.html#indexing-view-versus-copy\n",
      "  self._update_inplace(new_data)\n",
      "C:\\ProgramData\\Anaconda3\\lib\\site-packages\\pandas\\core\\frame.py:3697: SettingWithCopyWarning: \n",
      "A value is trying to be set on a copy of a slice from a DataFrame\n",
      "\n",
      "See the caveats in the documentation: http://pandas.pydata.org/pandas-docs/stable/indexing.html#indexing-view-versus-copy\n",
      "  errors=errors)\n"
     ]
    }
   ],
   "source": [
    "null_count_numerical = dict(dataset[numerical_columns].isnull().sum())\n",
    "for key,val in null_count_numerical.items():\n",
    "    if val>0.3*len(dataset):\n",
    "        df_numerical.drop(key,axis=1,inplace=True)\n",
    "    elif val>1:\n",
    "        df_numerical[key].fillna(df_numerical['_unit_id'].mode()[0],inplace=True)\n",
    "df_numerical.drop('_unit_id',inplace=True,axis=1)\n",
    "df_categorical.drop(['_golden','_unit_state','_last_judgment_at'],inplace=True,axis=1)"
   ]
  },
  {
   "cell_type": "markdown",
   "metadata": {},
   "source": [
    "#### Remove unnecessary symbols from text and convert it to lowercase"
   ]
  },
  {
   "cell_type": "code",
   "execution_count": 8,
   "metadata": {},
   "outputs": [],
   "source": [
    "punctuation = list(string.punctuation)\n",
    "punctuation.extend(['\\n','\\t'])\n",
    "def clean_text(txt):\n",
    "    'Remove unnecessary characters'\n",
    "    txt = re.sub(r'[^\\w]',' ',txt)\n",
    "    txt = txt.encode('ascii','ignore').decode('utf-8')\n",
    "    'Remove extra spaces'\n",
    "    txt = re.sub(r'\\s{2,}',' ',txt)\n",
    "    'Convert text to lowercase'\n",
    "    txt = txt.lower()\n",
    "#     print(txt)\n",
    "    return txt\n",
    "    'need to find something for spelling correction'\n",
    "text = \"Am i n't sup1po@sed to b>.e in ??>! ‚ÃƒÂ‚Ã‚Â¿s written notice to the Supplier to do so \"\n",
    "text=clean_text(text)"
   ]
  },
  {
   "cell_type": "markdown",
   "metadata": {},
   "source": [
    "#### Lemmatization of each word"
   ]
  },
  {
   "cell_type": "code",
   "execution_count": 9,
   "metadata": {},
   "outputs": [],
   "source": [
    "def word_lemmatize(sent):\n",
    "    words = [word for word in nltk.word_tokenize(sent)] \n",
    "    pos_tagged_words = nltk.pos_tag(words)\n",
    "#     print(pos_tagged_words)\n",
    "    def pos_template(tag):\n",
    "        if tag.startswith('R'):\n",
    "            return wordnet.ADV\n",
    "        elif tag.startswith('J'):\n",
    "            return wordnet.ADJ\n",
    "        elif tag.startswith('V'):\n",
    "            return wordnet.VERB\n",
    "        else:\n",
    "            return wordnet.NOUN\n",
    "#     return nltk.WordNetLemmatizer.lemmatize('running',pos=pos_template('NNS'))\n",
    "    return ' '.join([nltk.WordNetLemmatizer().lemmatize(word,pos=pos_template(tag)) for word,tag in pos_tagged_words])\n",
    "# word_lemmatize('cats running ran cactus cactuses cacti community communities')"
   ]
  },
  {
   "cell_type": "code",
   "execution_count": 10,
   "metadata": {},
   "outputs": [
    {
     "name": "stderr",
     "output_type": "stream",
     "text": [
      "C:\\ProgramData\\Anaconda3\\lib\\site-packages\\ipykernel_launcher.py:4: SettingWithCopyWarning: \n",
      "A value is trying to be set on a copy of a slice from a DataFrame.\n",
      "Try using .loc[row_indexer,col_indexer] = value instead\n",
      "\n",
      "See the caveats in the documentation: http://pandas.pydata.org/pandas-docs/stable/indexing.html#indexing-view-versus-copy\n",
      "  after removing the cwd from sys.path.\n"
     ]
    }
   ],
   "source": [
    "temp=[]\n",
    "for i in df_categorical.text:\n",
    "    temp.append(word_lemmatize(clean_text(i)))\n",
    "df_categorical['text']=temp"
   ]
  },
  {
   "cell_type": "markdown",
   "metadata": {},
   "source": [
    "#### Count Vectorizing the text data (Bag of Words)"
   ]
  },
  {
   "cell_type": "code",
   "execution_count": 12,
   "metadata": {},
   "outputs": [],
   "source": [
    "cvec = CountVectorizer(analyzer='word')\n",
    "bow = cvec.fit_transform(df_categorical.text)\n",
    "new_df = pd.DataFrame(bow.toarray())\n",
    "# print(cvec.vocabulary_)\n",
    "new_df.columns = cvec.get_feature_names()"
   ]
  },
  {
   "cell_type": "markdown",
   "metadata": {},
   "source": [
    "#### Dimension of the data is reduced using PCA for visualisation"
   ]
  },
  {
   "cell_type": "code",
   "execution_count": 1,
   "metadata": {},
   "outputs": [],
   "source": [
    "from sklearn.decomposition import PCA\n",
    "pca= PCA(n_components=2)\n",
    "data = pd.DataFrame(pca.fit_transform(new_df))\n",
    "data.columns=['x','y']\n",
    "print('variance ratio')\n",
    "print(pca.explained_variance_ratio_)\n",
    "data['result']=df_categorical['choose_one'].copy()\n",
    "import seaborn as sns\n",
    "sns.scatterplot('x','y',data=data,hue='result')"
   ]
  },
  {
   "cell_type": "markdown",
   "metadata": {},
   "source": [
    "#### Encode the output labels"
   ]
  },
  {
   "cell_type": "code",
   "execution_count": 14,
   "metadata": {},
   "outputs": [],
   "source": [
    "t={'Relevant':1,'Not Relevant':0}\n",
    "y=df_categorical.choose_one.apply(lambda x:t[x])"
   ]
  },
  {
   "cell_type": "markdown",
   "metadata": {},
   "source": [
    "#### Dropping unnecessary columns"
   ]
  },
  {
   "cell_type": "code",
   "execution_count": 15,
   "metadata": {},
   "outputs": [
    {
     "name": "stderr",
     "output_type": "stream",
     "text": [
      "C:\\ProgramData\\Anaconda3\\lib\\site-packages\\pandas\\core\\frame.py:3697: SettingWithCopyWarning: \n",
      "A value is trying to be set on a copy of a slice from a DataFrame\n",
      "\n",
      "See the caveats in the documentation: http://pandas.pydata.org/pandas-docs/stable/indexing.html#indexing-view-versus-copy\n",
      "  errors=errors)\n"
     ]
    }
   ],
   "source": [
    "# df_categorical.drop(['text','keyword','choose_one'],axis=1,inplace=True)\n",
    "df_numerical.drop(['tweetid','userid'],axis=1,inplace=True)"
   ]
  },
  {
   "cell_type": "markdown",
   "metadata": {},
   "source": [
    "#### Combine the processed categorical and numerical dataframes"
   ]
  },
  {
   "cell_type": "code",
   "execution_count": null,
   "metadata": {},
   "outputs": [],
   "source": [
    "# df_categorical.reset_index(drop=True,inplace=True)\n",
    "# df_numerical.reset_index(drop=True,inplace=True)\n",
    "# new_df.reset_index(drop=True,inplace=True)\n",
    "x = pd.concat([df_numerical,new_df],axis=1)\n",
    "traindatax,testdatax,traindatay,testdatay = train_test_split(new_df,y,test_size=0.33,random_state=42)"
   ]
  },
  {
   "cell_type": "markdown",
   "metadata": {},
   "source": [
    "#### Training model using classifier"
   ]
  },
  {
   "cell_type": "code",
   "execution_count": 42,
   "metadata": {},
   "outputs": [
    {
     "name": "stderr",
     "output_type": "stream",
     "text": [
      "C:\\Users\\1085679\\AppData\\Roaming\\Python\\Python37\\site-packages\\sklearn\\linear_model\\logistic.py:433: FutureWarning: Default solver will be changed to 'lbfgs' in 0.22. Specify a solver to silence this warning.\n",
      "  FutureWarning)\n"
     ]
    },
    {
     "name": "stdout",
     "output_type": "stream",
     "text": [
      "0.798828125\n"
     ]
    }
   ],
   "source": [
    "lr = LogisticRegression()\n",
    "lr.fit(traindatax,traindatay)\n",
    "print(lr.score(testdatax,testdatay))"
   ]
  },
  {
   "cell_type": "markdown",
   "metadata": {},
   "source": [
    "#### For classification problems, accuracy cannot be considered always, especially when the dataset is biased.\n",
    "#### It is necessary to analyse the model using confusion matrix"
   ]
  },
  {
   "cell_type": "code",
   "execution_count": 43,
   "metadata": {},
   "outputs": [
    {
     "data": {
      "text/plain": [
       "<matplotlib.axes._subplots.AxesSubplot at 0x17e34400>"
      ]
     },
     "execution_count": 43,
     "metadata": {},
     "output_type": "execute_result"
    },
    {
     "data": {
      "image/png": "[encoded data removed]",
      "text/plain": [
       "<Figure size 432x288 with 2 Axes>"
      ]
     },
     "metadata": {
      "needs_background": "light"
     },
     "output_type": "display_data"
    }
   ],
   "source": [
    "y_pred = lr.predict(testdatax)\n",
    "# print(metrics.classification_report(testdatay,y_pred))\n",
    "cm = metrics.confusion_matrix(testdatay,y_pred)\n",
    "sns.heatmap(cm,annot=True)"
   ]
  },
  {
   "cell_type": "markdown",
   "metadata": {},
   "source": [
    "#### From the confusion matrix, it is understood, 300 sentences referring to acutal disaster is predicted as irrelevant"
   ]
  },
  {
   "cell_type": "markdown",
   "metadata": {},
   "source": [
    "#### Obtaining the features which most contributes to disaster and irrelevant classification"
   ]
  },
  {
   "cell_type": "code",
   "execution_count": 44,
   "metadata": {},
   "outputs": [],
   "source": [
    "d = cvec.get_feature_names()\n",
    "f = lr.coef_.tolist()[0]\n",
    "e = list(zip(d,f))\n",
    "words_most_contribute_to_disaster = sorted(e,key=operator.itemgetter(1),reverse=True)[:9]\n",
    "words_most_contribute_to_irelevant = sorted(e,key=operator.itemgetter(1),reverse=True)[-9:]"
   ]
  },
  {
   "cell_type": "code",
   "execution_count": 45,
   "metadata": {},
   "outputs": [
    {
     "data": {
      "text/html": [
       "<div>\n",
       "<style scoped>\n",
       "    .dataframe tbody tr th:only-of-type {\n",
       "        vertical-align: middle;\n",
       "    }\n",
       "\n",
       "    .dataframe tbody tr th {\n",
       "        vertical-align: top;\n",
       "    }\n",
       "\n",
       "    .dataframe thead th {\n",
       "        text-align: right;\n",
       "    }\n",
       "</style>\n",
       "<table border=\"1\" class=\"dataframe\">\n",
       "  <thead>\n",
       "    <tr style=\"text-align: right;\">\n",
       "      <th></th>\n",
       "      <th>Words_related_to_Disaster</th>\n",
       "      <th>Words_related_to_Irelevant</th>\n",
       "    </tr>\n",
       "  </thead>\n",
       "  <tbody>\n",
       "    <tr>\n",
       "      <th>0</th>\n",
       "      <td>fire</td>\n",
       "      <td>your</td>\n",
       "    </tr>\n",
       "    <tr>\n",
       "      <th>1</th>\n",
       "      <td>in</td>\n",
       "      <td>he</td>\n",
       "    </tr>\n",
       "    <tr>\n",
       "      <th>2</th>\n",
       "      <td>hiroshima</td>\n",
       "      <td>bag</td>\n",
       "    </tr>\n",
       "    <tr>\n",
       "      <th>3</th>\n",
       "      <td>storm</td>\n",
       "      <td>youtube</td>\n",
       "    </tr>\n",
       "    <tr>\n",
       "      <th>4</th>\n",
       "      <td>wildfire</td>\n",
       "      <td>scream</td>\n",
       "    </tr>\n",
       "    <tr>\n",
       "      <th>5</th>\n",
       "      <td>train</td>\n",
       "      <td>you</td>\n",
       "    </tr>\n",
       "    <tr>\n",
       "      <th>6</th>\n",
       "      <td>kill</td>\n",
       "      <td>full</td>\n",
       "    </tr>\n",
       "    <tr>\n",
       "      <th>7</th>\n",
       "      <td>flood</td>\n",
       "      <td>new</td>\n",
       "    </tr>\n",
       "    <tr>\n",
       "      <th>8</th>\n",
       "      <td>california</td>\n",
       "      <td>my</td>\n",
       "    </tr>\n",
       "  </tbody>\n",
       "</table>\n",
       "</div>"
      ],
      "text/plain": [
       "  Words_related_to_Disaster Words_related_to_Irelevant\n",
       "0                      fire                       your\n",
       "1                        in                         he\n",
       "2                 hiroshima                        bag\n",
       "3                     storm                    youtube\n",
       "4                  wildfire                     scream\n",
       "5                     train                        you\n",
       "6                      kill                       full\n",
       "7                     flood                        new\n",
       "8                california                         my"
      ]
     },
     "execution_count": 45,
     "metadata": {},
     "output_type": "execute_result"
    }
   ],
   "source": [
    "w,c=zip(*words_most_contribute_to_irelevant)\n",
    "dw,dc = zip(*words_most_contribute_to_disaster)\n",
    "result = pd.DataFrame({'Words_related_to_Disaster':dw,'Words_related_to_Irelevant':w})\n",
    "result"
   ]
  },
  {
   "cell_type": "markdown",
   "metadata": {},
   "source": [
    "#### Visualizing the contribution of each word to the respective categories"
   ]
  },
  {
   "cell_type": "code",
   "execution_count": 46,
   "metadata": {},
   "outputs": [
    {
     "data": {
      "text/plain": [
       "<matplotlib.axes._subplots.AxesSubplot at 0x16a95898>"
      ]
     },
     "execution_count": 46,
     "metadata": {},
     "output_type": "execute_result"
    },
    {
     "data": {
      "image/png": "[encoded data removed]",
      "text/plain": [
       "<Figure size 432x288 with 1 Axes>"
      ]
     },
     "metadata": {
      "needs_background": "light"
     },
     "output_type": "display_data"
    }
   ],
   "source": [
    "# sns.bar()\n",
    "temp = dict(words_most_contribute_to_disaster)\n",
    "sns.barplot(list(temp.values()),list(temp.keys()))"
   ]
  },
  {
   "cell_type": "code",
   "execution_count": 47,
   "metadata": {},
   "outputs": [
    {
     "data": {
      "text/plain": [
       "<matplotlib.axes._subplots.AxesSubplot at 0x16b1c6a0>"
      ]
     },
     "execution_count": 47,
     "metadata": {},
     "output_type": "execute_result"
    },
    {
     "data": {
      "image/png": "[encoded data removed]",
      "text/plain": [
       "<Figure size 432x288 with 1 Axes>"
      ]
     },
     "metadata": {
      "needs_background": "light"
     },
     "output_type": "display_data"
    }
   ],
   "source": [
    "temp = dict(words_most_contribute_to_irelevant)\n",
    "sns.barplot(list(temp.values()),list(temp.keys()))"
   ]
  }
 ],
 "metadata": {
  "kernelspec": {
   "display_name": "Python 3",
   "language": "python",
   "name": "python3"
  },
  "language_info": {
   "codemirror_mode": {
    "name": "ipython",
    "version": 3
   },
   "file_extension": ".py",
   "mimetype": "text/x-python",
   "name": "python",
   "nbconvert_exporter": "python",
   "pygments_lexer": "ipython3",
   "version": "3.6.8"
  }
 },
 "nbformat": 4,
 "nbformat_minor": 2
}
